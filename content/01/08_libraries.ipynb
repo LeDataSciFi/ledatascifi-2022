{
 "cells": [
  {
   "cell_type": "markdown",
   "metadata": {},
   "source": [
    "# Installing libraries \n",
    "\n",
    "The Anaconda distribution we installed also installed most of the key data science Python libraries/packages we will use throughout the semester. In the event you need to install a new package to add functionality to Python, e.g. `matplotlib` (which you already have!), you can \n",
    "\n",
    "1. Open Anaconda Prompt (Windows) or Terminal (Mac) or a code cell in Jupyter Lab \n",
    "2. `pip install matplotlib` will install the package matplotlib. \n",
    "\n",
    "Some packages can't be `pip` installed, but hopefully you won't need to deal with that this semester, so I'm going to skip discussion of such package installs. "
   ]
  }
 ],
 "metadata": {
  "kernelspec": {
   "display_name": "Python 3",
   "language": "python",
   "name": "python3"
  },
  "language_info": {
   "codemirror_mode": {
    "name": "ipython",
    "version": 3
   },
   "file_extension": ".py",
   "mimetype": "text/x-python",
   "name": "python",
   "nbconvert_exporter": "python",
   "pygments_lexer": "ipython3",
   "version": "3.8.5"
  }
 },
 "nbformat": 4,
 "nbformat_minor": 4
}
