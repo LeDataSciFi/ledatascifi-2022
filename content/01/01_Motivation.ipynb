{
 "cells": [
  {
   "cell_type": "markdown",
   "metadata": {},
   "source": [
    "# Motivation, \n",
    "\n",
    "## Or: Should I take this class (A: YES!)\n"
   ]
  },
  {
   "cell_type": "markdown",
   "metadata": {},
   "source": [
    "Employers are starving for talented students that can use Python, and they are willing to pay for it:\n",
    "\n",
    "````{tabbed} Jobs and pay by language\n",
    "Python is #2 for jobs with a high salary:\n",
    "\n",
    "```{image} ./img/indeed.png\n",
    ":alt: indeeed\n",
    ":width: 600px\n",
    ":align: center\n",
    "```\n",
    "````\n",
    "\n",
    "````{tabbed} DS Jobs\n",
    "Within \"data science\" itself, it has the most jobs:\n",
    "\n",
    "```{image} ./img/jobs-by-lang.png\n",
    ":alt: jobs\n",
    ":width: 600px\n",
    ":align: center\n",
    "```\n",
    "````\n",
    "\n",
    "````{tabbed} Stackoverflow\n",
    "Among the common alternative data science languages, the most popular on SO:\n",
    "\n",
    "```{image} ./img/stackoverflowstrends.svg\n",
    ":alt: lingotrend\n",
    ":width: 600px\n",
    ":align: center\n",
    "```\n",
    "````\n",
    "\n",
    "````{tabbed} Lehigh pay\n",
    "```{image} ./img/lehigh.png\n",
    ":alt: lingotrend\n",
    ":width: 600px\n",
    ":align: center\n",
    "```\n",
    "````\n",
    "\n",
    "Why is that? Well, it is not just about rote coding. It's about a set of complementary skills, used within a framework for problem solving.\n"
   ]
  },
  {
   "cell_type": "markdown",
   "metadata": {
    "slideshow": {
     "slide_type": "slide"
    }
   },
   "source": [
    "## The data scientist approach\n",
    "1. Define a problem/project in a valuable way: A clearly specified question with metrics for success and idea of impact. Always keep the big picture in mind!\n",
    "    - Valuable skill even if you never code again!\n",
    "2. Work _**collaboratively**_ on the problem. \n",
    "    - Interesting problems are **big** and rarely solo: Sir Edmund Hilary needed Tsenging Norgue to climb Everest. \n",
    "    - Valuable skill even if you never code again! Understanding how to manage how any team projects evolve (whether it is producing a document, or slides, or whatnot) is extremely valuable. Imagine spending a week on a report, and then your boss Jan[^jan] or your coworker Jean Ralphio[^jean] undoes your week of work by editing a version of the report that is a week old. ARRRRRG!   \n",
    "3. Acquire data and clean it. Age old wisdom tells us that if the input is crap, the output will be... Time spent on cleaning is often more valuable than time spent on modeling.\n",
    "4. Explore the data.\n",
    "5. Analysis using appropriate modeling tools. This is <25% of the work on most projects.\n",
    "6. Deliver the project conclusions to higher ups in the form of clear business recommendations. Writing should always be geared to the audience, and managers typically want bottom lines, whereas technical leads need more technical justification.\n",
    "    - Valuable skill even if you never code again!"
   ]
  },
  {
   "cell_type": "markdown",
   "metadata": {},
   "source": [
    "[^jan]: <img src=\"https://media.giphy.com/media/Onl9LxeKBz65W/giphy.gif\" width=\"35%\" > \n",
    "[^jean]: <img src=\"https://media.giphy.com/media/znSg4sT0ivRdu/giphy.gif\" width=\"35%\" > <img src=\"https://media.giphy.com/media/HPMTb7m5ehAUE/giphy.gif\" width=\"35%\" > "
   ]
  },
  {
   "cell_type": "markdown",
   "metadata": {},
   "source": [
    "## From here to there...\n",
    "\n",
    "I've designed this class with the hope that you'll be prepared and able to execute each of those steps. \n",
    "\n",
    "**By the end of the semester, your resume, should you choose to, can include your (burgeoning) proficiency with Python, Github, Machine Learning (ML) tools, web scraping, and data viz, in addition to describing your exploits on Github and the final course project.** \n",
    "\n",
    "So, in terms of data scientists, your journey this semester is hopefully something like:[^me]\n",
    "\n",
    "![](img/sarahchange.png)\n",
    "\n",
    "[^me]: I guess that makes me your old assistant on the journey... ![](img/oldarnold.jpg)\n",
    "\n",
    "\n",
    "### Our bargain (not Faustian, I hope)\n",
    "\n",
    "**This class is ambitious!** You will need to learn skills from computer science, statistics, and econometrics just so that we have the toolkit needed to begin analysis. I'm aiming to make each of those components accessible (e.g. we won't prove any theorems, and I'm boiling down programming to essentials). Still, that menu of skills is not easy to acquire (that's why employers pay \\$\\$\\$ for it!), and...\n",
    "\n",
    "**THUS: You will have to work outside of class quite a bit.**\n",
    "\n",
    "And if you've never programmed: \n"
   ]
  },
  {
   "cell_type": "markdown",
   "metadata": {},
   "source": [
    "- I swear, youngens these days have it so much easier![^youngens]\n",
    "- **Seriously, getting Python up and running has never been quicker, and we will have some working code soon!**\n",
    "- You will be frustrated at times. This is natural! No programmer exists who has not cursed their computer to the depths of hell. \n",
    "    - This is completely true: Half the time, it's a silly typo on line 42 of your code. Like, you literally misspelled \"regression\" as \"regresion\".\n",
    "    - Corollary: A lot of programming takes place after dark, under the influence of coffee and Red Bull. This is why you misspelled \"regresion\". Try to program at times when you have a clearer mind :)\n",
    "- Overcoming those frustrating issues feels soooooo good. You'll feel a sense of accomplishment. Fight for that!\n",
    "- Your classmates are in it too, and they can, and surely will, help.\n",
    "\n",
    "**My half of the bargain:** I will work just as hard as you throughout the semester to improve this new class. It's experimental so some things (lectures, assignments) will succeed and aid you along that journey towards being Terminator 3 Linda Hamilton, and some things I try will fail. When something doesn't work out, I'll try to improve it.\n",
    "\n",
    "**Related: When you have questions in class, ask!** Falling behind is costly, and asking a question is cheap. If you're confused or having computer issues, someone else surely is too. If you're stuck outside of class (homeworks, assignments, etc.), see the resources section of the website for a set of things you can do. After trying the options there, you can always... (come to the drop-in hours!)"
   ]
  },
  {
   "cell_type": "markdown",
   "metadata": {},
   "source": [
    "[^youngens]: <img src=\"https://i.imgflip.com/3kc97l.jpg\" width=\"35%\"/>\n",
    "\n"
   ]
  }
 ],
 "metadata": {
  "celltoolbar": "Tags",
  "kernelspec": {
   "display_name": "Python 3 (ipykernel)",
   "language": "python",
   "name": "python3"
  },
  "language_info": {
   "codemirror_mode": {
    "name": "ipython",
    "version": 3
   },
   "file_extension": ".py",
   "mimetype": "text/x-python",
   "name": "python",
   "nbconvert_exporter": "python",
   "pygments_lexer": "ipython3",
   "version": "3.8.11"
  }
 },
 "nbformat": 4,
 "nbformat_minor": 4
}
