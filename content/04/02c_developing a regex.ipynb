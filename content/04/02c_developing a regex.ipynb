{
 "cells": [
  {
   "cell_type": "markdown",
   "metadata": {},
   "source": [
    "# Developing a regex\n",
    "\n",
    "1. Think of the PATTERN you want to capture in general terms. \"I want three letter words.\"\n",
    "2. Write `pattern = \"\\w{3}\"` and then try it on a few practice strings. **The goal is to BREAK your pattern, find out where it fails, and notice new parts of the pattern you missed.**\n"
   ]
  },
  {
   "cell_type": "code",
   "execution_count": 1,
   "metadata": {},
   "outputs": [
    {
     "data": {
      "text/plain": [
       "['hey', 'the', 'guy']"
      ]
     },
     "execution_count": 1,
     "metadata": {},
     "output_type": "execute_result"
    }
   ],
   "source": [
    "import re\n",
    "pattern = \"\\w{3}\"\n",
    "re.findall(pattern,\"hey there guy\") # whoops, \"the\" isnt a 3 letter word"
   ]
  },
  {
   "cell_type": "code",
   "execution_count": 2,
   "metadata": {},
   "outputs": [
    {
     "data": {
      "text/plain": [
       "['hey', 'ere', 'guy']"
      ]
     },
     "execution_count": 2,
     "metadata": {},
     "output_type": "execute_result"
    }
   ],
   "source": [
    "# tried but failed: \n",
    "#      \"(\\w{3}) \"     <-- a space\n",
    "#      \"(\\w{3})\\b\"    <-- a word boundary should work! why not?\n",
    "pattern = r\"(\\w{3})\\b\" # trying that raw string notation thing \n",
    "re.findall(pattern,\"hey there guy\")  \n",
    "# it made the `\\b` work!, but pattern still it is failing..."
   ]
  },
  {
   "cell_type": "code",
   "execution_count": 3,
   "metadata": {},
   "outputs": [
    {
     "data": {
      "text/plain": [
       "['hey', 'guy']"
      ]
     },
     "execution_count": 3,
     "metadata": {},
     "output_type": "execute_result"
    }
   ],
   "source": [
    "pattern = r\"\\b(\\w{3})\\b\"  # make sur the word has a boundary before it\n",
    "re.findall(pattern,\"hey there guy\")  # got it!"
   ]
  }
 ],
 "metadata": {
  "kernelspec": {
   "display_name": "Python 3",
   "language": "python",
   "name": "python3"
  },
  "language_info": {
   "codemirror_mode": {
    "name": "ipython",
    "version": 3
   },
   "file_extension": ".py",
   "mimetype": "text/x-python",
   "name": "python",
   "nbconvert_exporter": "python",
   "pygments_lexer": "ipython3",
   "version": "3.8.5"
  }
 },
 "nbformat": 4,
 "nbformat_minor": 4
}
