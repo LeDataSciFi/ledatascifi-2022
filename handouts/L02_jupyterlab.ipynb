{
 "cells": [
  {
   "cell_type": "markdown",
   "metadata": {
    "slideshow": {
     "slide_type": "slide"
    },
    "tags": []
   },
   "source": [
    "# Hi!\n",
    "\n",
    "## Today's exercises require you to have\n",
    "\n",
    "## 1. Installed Anaconda. If you haven't, go to 1.2 in the class textbook (ledatascifi.github.io) and get that installed.\n",
    "\n",
    "## 2. Finished at least step 3.A of the github exercises."
   ]
  },
  {
   "cell_type": "markdown",
   "metadata": {
    "slideshow": {
     "slide_type": "slide"
    }
   },
   "source": [
    "# Hello everyone!\n",
    "\n",
    "Our plan for the day:\n",
    "\n",
    "1. Any issues with the set up tasks or github exercises?\n",
    "1. Big picture\n",
    "1. JLab tour\n",
    "1. Learning by doing \n",
    "    1. Opening Jupyter Lab and exploring the interface\n",
    "    1. Creating our first file and exploring \"notebooks\"\n",
    "    1. Practice"
   ]
  },
  {
   "cell_type": "markdown",
   "metadata": {
    "slideshow": {
     "slide_type": "slide"
    }
   },
   "source": [
    "## Big picture\n",
    "\n",
    "- `python` is a programming language \n",
    "- .`py` files are text files that exclusively contain python code. \n",
    "- `.py` files can not show results - you have to output any graphs or tables to new files. "
   ]
  },
  {
   "cell_type": "markdown",
   "metadata": {
    "slideshow": {
     "slide_type": "fragment"
    }
   },
   "source": [
    "That last feature is a bummer. **There must be a better way!**\n",
    "\n",
    "![](https://media.giphy.com/media/xsATxBQfeKHCg/giphy.gif)"
   ]
  },
  {
   "cell_type": "markdown",
   "metadata": {
    "slideshow": {
     "slide_type": "subslide"
    }
   },
   "source": [
    "![](https://media.giphy.com/media/zvYnqgajTM6MU/giphy.gif)"
   ]
  },
  {
   "cell_type": "markdown",
   "metadata": {
    "slideshow": {
     "slide_type": "subslide"
    }
   },
   "source": [
    "![](https://media.giphy.com/media/3oEduNF7DlpxgcHVJe/giphy.gif)"
   ]
  },
  {
   "cell_type": "markdown",
   "metadata": {
    "slideshow": {
     "slide_type": "subslide"
    }
   },
   "source": [
    "![](https://media.giphy.com/media/B4fRSZgj8XUOY/source.gif)"
   ]
  },
  {
   "cell_type": "markdown",
   "metadata": {
    "slideshow": {
     "slide_type": "subslide"
    }
   },
   "source": [
    "Enter notebook files! \n",
    "- `.ipynb` (\"notebook\") files mix python code with formatted markdown text and the output from code!\n",
    "- [For example, the CAPM notebook](https://github.com/LeDataSciFi/ledatascifi-2022/blob/main/handouts/factor_loading_simple.ipynb) from last class. [Compare it to a basic py file doing the same thing.](https://github.com/LeDataSciFi/ledatascifi-2022/blob/main/handouts/factor_loading_simple.py) I know which I prefer!\n",
    "\n",
    "The result: &rarr; better analysis! (\"reproducible, reusable, and shareable\")\n",
    "\n",
    "\n",
    "And **Jupyter Lab** is how we will make our Jupyter notebooks."
   ]
  },
  {
   "cell_type": "markdown",
   "metadata": {
    "slideshow": {
     "slide_type": "slide"
    }
   },
   "source": [
    "## Exercises"
   ]
  },
  {
   "cell_type": "markdown",
   "metadata": {
    "slideshow": {
     "slide_type": "fragment"
    },
    "tags": []
   },
   "source": [
    "![](https://media.giphy.com/media/cKKXNlTYino7hWNXwl/giphy.gif)"
   ]
  },
  {
   "cell_type": "markdown",
   "metadata": {
    "slideshow": {
     "slide_type": "fragment"
    },
    "tags": []
   },
   "source": [
    "## Wait! Don't we have guidance on a few steps we should do as we work?"
   ]
  },
  {
   "cell_type": "markdown",
   "metadata": {
    "slideshow": {
     "slide_type": "subslide"
    },
    "tags": []
   },
   "source": [
    "## Always use the github workflow!\n",
    "\n",
    "Since we are working, let's put the [Github workflow](https://ledatascifi.github.io/ledatascifi-2022/content/01/03a_githubworkflow.html) into practice:\n",
    "1. Open github desktop\n",
    "1. \"Fetch\" your class notes repo (probably nothing changed, but its a good habit!)\n",
    "1. Fetch the class textbook (ledatascifi-2022, **which has new handouts and slides**)\n",
    "\n",
    "**Now we are ready to work!**"
   ]
  },
  {
   "cell_type": "markdown",
   "metadata": {
    "slideshow": {
     "slide_type": "subslide"
    }
   },
   "source": [
    "Before each class starts, you should have already \n",
    "- \"fetched\" your class notes repo \n",
    "- \"fetched\" the class textbook (ledatascifi-2022), so you can copy exercise files from the textbook to your class notes repo\n",
    "- opened JLab \n",
    "\n",
    "And at the end of each class, \n",
    "- save all open code files, \n",
    "- commit and push your Class Notes repo\n",
    "- close JLab (and the terminal running it)"
   ]
  },
  {
   "cell_type": "markdown",
   "metadata": {
    "slideshow": {
     "slide_type": "subslide"
    },
    "tags": []
   },
   "source": [
    "## A quick tour of Jupyter Lab \n",
    "\n",
    "To open Jupyter Lab:\n",
    "- Windows: Open Anaconda Prompt and type `jupyter lab` and hit enter\n",
    "- Mac: Open a terminal window and type `jupyter lab` and hit enter"
   ]
  },
  {
   "cell_type": "markdown",
   "metadata": {
    "slideshow": {
     "slide_type": "fragment"
    },
    "tags": []
   },
   "source": [
    "OK, what are we looking at?\n",
    "- This is a browser based editor\n",
    "- Notice your prompt/terminal is running in the background\n",
    "    - _HINT_ : If you need another prompt/terminal to do something else, just open a second one\n",
    "    \n",
    "**Now, let me give you a little tour (just watch me!)**"
   ]
  },
  {
   "cell_type": "markdown",
   "metadata": {
    "slideshow": {
     "slide_type": "subslide"
    }
   },
   "source": [
    "I'll cover...\n",
    "- The left sidebar\n",
    "    - **The file browser:** \n",
    "        1. Nav to my textbook folder to copy today's exercises\n",
    "        1. Nav to my Class Notes folder, create a folder called \"Exercises\"\n",
    "        2. Go into the Exercises folder you just made and paste the exercises ipynb file there\n",
    "        3. Open your \"Module 1 Notes\" file and the exercise file from inside your notes folder\n",
    "    - Kernels: A list of running code\n",
    "    - Extensions: VERY useful to make JLab more powerful (see 1.2 and 1.6)"
   ]
  },
  {
   "cell_type": "markdown",
   "metadata": {
    "slideshow": {
     "slide_type": "fragment"
    },
    "tags": []
   },
   "source": [
    "- The main work area \n",
    "    - you arrange documents (notebooks, text files, etc.) and other activities (terminals, code consoles, etc.) into panels \n",
    "    - each panel can have many tabs open "
   ]
  },
  {
   "cell_type": "markdown",
   "metadata": {
    "slideshow": {
     "slide_type": "subslide"
    },
    "tags": []
   },
   "source": [
    "## Let's all do those steps above, together"
   ]
  },
  {
   "cell_type": "markdown",
   "metadata": {
    "slideshow": {
     "slide_type": "fragment"
    },
    "tags": []
   },
   "source": [
    "Then, in the \"Module 1 Notes\" file:\n",
    "- go down to the \"Jupyterlab Notes\" part of the file\n",
    "- under it, there is \"put your notes here\". Replace that with `print(\"Hello world!\")` (don't forget both quote marks or parentheses)\n",
    "- hit the \"play\" button to run the cell "
   ]
  },
  {
   "cell_type": "markdown",
   "metadata": {
    "slideshow": {
     "slide_type": "subslide"
    },
    "tags": []
   },
   "source": [
    "## Two (non-coding) lessons for today\n",
    "\n",
    "1. [Textbook 1.6.2](https://ledatascifi.github.io/ledatascifi-2022/content/01/05_jupyterlab.html#resources-help-and-documentation)\n",
    "1. [Textbook 1.7.3](https://ledatascifi.github.io/ledatascifi-2022/content/01/06_python.html#clear-output-and-rerun-from-the-start)\n",
    "    - I saw this error on 20-30% of assignments for the first month two years ago, and 10-15% of assignments last year. "
   ]
  },
  {
   "cell_type": "markdown",
   "metadata": {
    "slideshow": {
     "slide_type": "subslide"
    },
    "tags": []
   },
   "source": [
    "## Time for exercises\n",
    "\n",
    "Let's get our hands dirty(er)!\n",
    "\n",
    "- Breakout rooms:\n",
    "    - Main room: quiet work area\n",
    "    - Room 1: I'll be there \n",
    "    - Room 2: The TA will be there\n",
    "    - Room 3-5: You can self-form groups here\n",
    "\n",
    "- Start at step 3 of the exercise file\n",
    "    - _If you got behind on the copy/paste steps above, you can open the exercises here:  [https://github.com/LeDataSciFi/ledatascifi-2022/blob/main/handouts/Jupyterlab%20exercises.ipynb](https://github.com/LeDataSciFi/ledatascifi-2022/blob/main/handouts/Jupyterlab%20exercises.ipynb)\n"
   ]
  },
  {
   "cell_type": "markdown",
   "metadata": {
    "slideshow": {
     "slide_type": "subslide"
    },
    "tags": []
   },
   "source": [
    "## FIN for the exercises\n",
    "\n",
    "1. How did we do? \n",
    "    - Thumb up emoji if you kept up all the way through\n",
    "    - Thumb down if you got stuck in the \n",
    "    - Any other emoji for \"in the middle\"\n",
    "2. Obviously, we will learn much more going forward, but you have enough to play around with Jupyter now. I **highly** recommend \n",
    "    - reading 1.1-1.8 \n",
    "    - start the assignment \n",
    "    - tutorials: chapter 1.7 (python) has two good options"
   ]
  },
  {
   "cell_type": "markdown",
   "metadata": {
    "slideshow": {
     "slide_type": "subslide"
    }
   },
   "source": [
    "### More practice, time permitting:\n",
    "\n",
    "1. \"Issue demo\": Have student put issue on their Assignment 1 Repo and tag me. I’ll reply via email. \n",
    "1. \"Good citizen demo\": Have student suggest a typo fix on the website\n"
   ]
  },
  {
   "cell_type": "markdown",
   "metadata": {
    "slideshow": {
     "slide_type": "slide"
    },
    "tags": []
   },
   "source": [
    "## Summary\n",
    "\n",
    "Before each class starts, you should have already \n",
    "- \"fetched\" your class notes repo \n",
    "- opened JLab to that folder\n",
    "\n",
    "And at the end of each class, (do these now!)\n",
    "- save all open code files, \n",
    "- close JLab (and the terminal running it)\n",
    "- commit and push your Class Notes repo\n",
    "- open the GitHub.com version of the repo\n",
    "\n",
    "Code must run from beginning to end and produce the same thing every time\n",
    "- Restart the kernal and clear output\n",
    "- Run all cells"
   ]
  },
  {
   "cell_type": "markdown",
   "metadata": {
    "slideshow": {
     "slide_type": "subslide"
    }
   },
   "source": [
    "## Before next time\n",
    "\n",
    "![](https://media.giphy.com/media/H7x1H0veAJlo4/giphy.gif)\n",
    "\n",
    "Stuck?\n",
    "-  <kbd>shift</kbd> + <kbd>tab</kbd>; help(function); find the documentation via google; stack overflow;\n",
    "\n",
    "Over the weekend:\n",
    "- The task page lists reading to cover and coding to try\n",
    "- I added a Markdown tutorial to the textbook that people like a lot\n",
    "- On Monday, we will be coding together - more updates on that soon"
   ]
  }
 ],
 "metadata": {
  "kernelspec": {
   "display_name": "Python 3 (ipykernel)",
   "language": "python",
   "name": "python3"
  },
  "language_info": {
   "codemirror_mode": {
    "name": "ipython",
    "version": 3
   },
   "file_extension": ".py",
   "mimetype": "text/x-python",
   "name": "python",
   "nbconvert_exporter": "python",
   "pygments_lexer": "ipython3",
   "version": "3.8.12"
  }
 },
 "nbformat": 4,
 "nbformat_minor": 4
}
