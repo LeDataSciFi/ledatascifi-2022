{
 "cells": [
  {
   "cell_type": "markdown",
   "id": "934846a2-cf16-4335-bd06-c7e4c498eee8",
   "metadata": {
    "tags": []
   },
   "source": [
    "# Module 2 - Numpy, Pandas, Data EDA/Wrangling/Cleaning, Visualization\n",
    "\n",
    "_My suggested use for this file is as an extra tab you keep open on the right side of your JupyterLab screen, and treat it like a notepad you'd use in a classroom. The left half of the screen will be good for files that have involved coding that should be stand alone files._\n",
    "\n",
    "## Skills AND CONCEPTS to learn in this Module \n",
    "\n",
    "You can find the tasks for this module [on the dashboard page]. \n",
    "\n",
    "Below are the key skills and concepts I want you to learn in this module in _roughly_ the order we will cover them. \n",
    "\n",
    "_**Note: This list is the key stuff, but not everything. We are scraping the surface **_\n",
    "- [ ] Numpy \n",
    "    - [ ] work on numerical operations on large arrays of numbers\n",
    "    - [ ] produce reproducible random numbers\n",
    "    - [ ] integrate Numpy functions on Pandas objects\n",
    "- [ ] Pandas  \n",
    "    - [ ] impose data into dataframes\n",
    "    - [ ] differentiate between \"wide\" and \"tall\" data\n",
    "    - [ ] loading and saving data\n",
    "    - [ ] manipulate and reshape data within dataframes\n",
    "    - [ ] perform numerical and statistical operations on dataframes\n",
    "- [ ] Data EDA/Wrangling/Cleaning\n",
    "    - [ ] understand Golden Rules for Exploratory Data Analysis (EDA)\n",
    "    - [ ] look for possible issues in data and methods to fix\n",
    "    - [ ] merging dataframes together\n",
    "    - [ ] dealing with outliers and/or missing data \n",
    "- [ ] Visualization \n",
    "    - [ ] create effective visualizations and models for data\n",
    "    - [ ] determine what plots to use based on data characteristics\n",
    "    - [ ] syntax for creating and customizing plots\n",
    "    - [ ] performing EDA on visualizations\n",
    "\n"
   ]
  },
  {
   "cell_type": "markdown",
   "id": "92c622e7-94fc-42fb-8d60-3eb070be5b07",
   "metadata": {},
   "source": [
    "## GitHub Lessons"
   ]
  }
 ],
 "metadata": {
  "kernelspec": {
   "display_name": "Python 3 (ipykernel)",
   "language": "python",
   "name": "python3"
  },
  "language_info": {
   "codemirror_mode": {
    "name": "ipython",
    "version": 3
   },
   "file_extension": ".py",
   "mimetype": "text/x-python",
   "name": "python",
   "nbconvert_exporter": "python",
   "pygments_lexer": "ipython3",
   "version": "3.9.7"
  }
 },
 "nbformat": 4,
 "nbformat_minor": 5
}
