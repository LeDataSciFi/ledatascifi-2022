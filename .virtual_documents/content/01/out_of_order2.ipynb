a=2
b=3


b=b+a
print(b)
