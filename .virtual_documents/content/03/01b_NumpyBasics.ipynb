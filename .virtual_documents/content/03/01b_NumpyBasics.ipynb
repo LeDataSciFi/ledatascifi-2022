import numpy as np
np.set_printoptions(2) # just to control # of decimal places shown

np.random.seed(0) # this is how you set a seed
print("original random draw:    ",np.random.rand(4))
print("now it's different:      ",np.random.rand(4))
print("now it's different:      ",np.random.rand(4))
np.random.seed(0)
print("now it's the same again: ",np.random.rand(4))

