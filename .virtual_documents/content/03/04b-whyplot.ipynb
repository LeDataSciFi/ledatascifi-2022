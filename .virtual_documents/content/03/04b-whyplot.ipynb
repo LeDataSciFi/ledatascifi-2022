import pandas as pd
import seaborn as sns
import matplotlib.pyplot as plt  # sometimes we want to tweak plots
import numpy as np 

df = sns.load_dataset("anscombe")
df.groupby('dataset').describe() # works, but a lil ugly...
df.groupby('dataset').describe().swaplevel(axis=1)[['mean','std']] # just report means and std


sns.lmplot(x="x", y="y", data=df, ci=None,
           col="dataset", # do the plot once for each dataset
           col_wrap=2,    # only two plots per row
           hue="dataset", # diff color for each dataset
          )
plt.show()


# let's graph dataset 3, with and without the outlier
# so make that dataframe 
temp_df = pd.concat([       # concat takes a list of dataframes, thus the extra brackets
                    df.query('dataset == "III"').assign(dataset='With outlier'),
                    df.query('dataset == "III" & y < 12 ').assign(dataset='No outlier')
                    ])
sns.lmplot(x="x", y="y", data=temp_df, ci=None,
          col="dataset", )
plt.show()

# alternative (easier to write) code
# this will do the same content-wise, but the y-axes differ, so fmt'ing is needed to sync them
# sns.lmplot(x='x',y='y',data=df.query('dataset == "III"'),ci=None)
# sns.lmplot(x='x',y='y',data=df.query('dataset == "III" & y < 12'),ci=None)



temp_df = pd.concat([       
                    df.query('dataset == "I"').assign(y=df['y']+20).assign(x=df['x']-20).assign(group="G-1"),
                    df.query('dataset == "I"').assign(y=df['y']+12).assign(x=df['x']-12).assign(group="G-2"),
                    df.query('dataset == "I"').assign(y=df['y']+6).assign(x=df['x']-6).assign(group="G-3"),
                    df.query('dataset == "I"').assign(y=df['y']+0).assign(x=df['x']-0).assign(group="G-4"),
                    ])


sns.regplot(x="x", y="y", data=temp_df ,ci=None)
plt.show()


sns.FacetGrid(temp_df, hue='group',height=5.5, aspect=5/5)\
    .map(sns.regplot, "x", "y", ci=None)
plt.show()
