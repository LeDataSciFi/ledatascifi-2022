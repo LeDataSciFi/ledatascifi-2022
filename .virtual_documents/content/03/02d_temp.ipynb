import pandas as pd

# define a df
df = pd.DataFrame({'height':[72,60,68],'gender':['M','F','M'],'weight':[175,110,150]})

# call method on df and print - df.assign yields the modified object!
df.assign(feet=df['height']//12)


print(df)  # see, the object has no feet! this is the original obj!


# option 1: explicitly define the df as the prior df after the method was called
# here, that means to add "df = " before the df.method 
df = df.assign(feet1=df['height']//12) 

# option 2: define a new feature of the df
# here, "df['newcolumnname'] = " (some operation)
df['feet2']=df['height']//12

print(df) # both of these added to obj in memory
