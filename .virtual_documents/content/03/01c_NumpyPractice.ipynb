import numpy as np


a = np.arange(4).reshape((2,2))
print("array a:")
print(a)

print("\nMaximum value of a:")
print() # put your answer inside the print

print("\nMinimum value of a:")
print() # put your answer inside the print

print("\nReturn an array of the max in each column of a:")
print()

print("\nReturn an array of the min in each row of a:")
print()

print("\nReturn a, sorted within each row:")
print()

print("\nReturn a, sorted within each column:")
print()



b = np.arange(40).reshape((20,2))
print("array b:")
print(b)

print("\nPrint elements of the first column of b above that column's 80th percentile:")
print() 

print("\nCovariance matrix of the columns of b:")
print()
