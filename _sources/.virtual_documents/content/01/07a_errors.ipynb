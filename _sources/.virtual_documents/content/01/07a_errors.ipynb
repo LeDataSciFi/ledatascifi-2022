if True
print("hi""+2+name)


if True: # <-- fix
print("hi ""+2+name)


if True: 
    print("hi ""+2+name)


if True: 
    print("hi "+2+name)


if True: 
    print("hi "+name)


name = "Jack"
if True: 
    print("hi "+name)
