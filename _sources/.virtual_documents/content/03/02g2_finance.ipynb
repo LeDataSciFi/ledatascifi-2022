(df
 .groupby(['asset','tiemperiod'])
 .agg(ret = lambda x: ((1+x['ret']).prod())-1 )
