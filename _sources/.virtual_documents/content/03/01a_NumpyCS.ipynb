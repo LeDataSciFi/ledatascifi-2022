import numpy as np   # this is how we load numpy, and "np" is
import random        # just a convenient abbrev convention

# a "+" sign isn't just a plus sign
a,b=3, 14
print(a+b)
a,b="py ","is good"
print(a+b)


get_ipython().run_cell_magic("time", "", """
y = 0     
for i in range(1000000):
    x = random.uniform(0, 1)
    y += x**2""")


get_ipython().run_cell_magic("time", "", """
x = np.random.uniform(0, 1, 1000000)
y = np.sum(x**2)""")
