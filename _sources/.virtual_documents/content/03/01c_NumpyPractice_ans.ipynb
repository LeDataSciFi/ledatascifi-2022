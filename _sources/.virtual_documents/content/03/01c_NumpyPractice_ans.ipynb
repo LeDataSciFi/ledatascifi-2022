import numpy as np


a = np.arange(4).reshape((2,2))
print("array a:")
print(a)

print("\nMaximum value of a:")
print(a.max()) # put your answer inside the print

print("\nMinimum value of a:")
print(a.min()) # put your answer inside the print

print("\nReturn an array of the max in each column of a:")
print(a.max(axis=0))

print("\nReturn an array of the min in each row of a:")
print(a.max(axis=1))

print("\nReturn a, sorted within each row:")
a.sort()
print(a)

print("\nReturn a, sorted within each column:")
a.sort(axis=1)
print(a)



b = np.arange(40).reshape((20,2))
print("array b:")
print(b)

print("\nPrint elements of the first column of b above that column's 80th percentile:")
p80 = np.percentile(b[:,0],80)
print(b[   b[:,0]>p80   , 0])   
#b[:,0]>p80 finds the rows of b where the first columns value is above p80
#b[ that, 0] prints the firms column

print("\nCovariance matrix of the columns of b:")
print(np.cov(b.T))
