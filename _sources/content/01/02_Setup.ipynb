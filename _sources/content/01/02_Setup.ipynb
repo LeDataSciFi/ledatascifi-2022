{
 "cells": [
  {
   "cell_type": "markdown",
   "metadata": {},
   "source": [
    "# Set up\n",
    "\n"
   ]
  },
  {
   "cell_type": "markdown",
   "metadata": {},
   "source": [
    "```{tip}\n",
    "Please do all of these steps before the first class!\n",
    "\n",
    "There is a youtube video at the bottom of this page, if you prefer that. \n",
    "```\n",
    "\n",
    "Let's install our programming \"stack\". \n",
    "\n",
    "1. [Create a GitHub account](https://github.com/join), then \n",
    "    - [Fill out this survey so we know your username and get to know you](https://forms.gle/425BySmg2TxFMoid6).  \n",
    "    - Join the class's GitHub organization by joining the \"gradebook\" repo. The link for that is in [coursesite](https://coursesite.lehigh.edu/course/view.php?id=193947), and it is \"classroom.github.com/\\<other stuff\\>\".\n",
    "    - Please add a profile photo on GitHub, to make our exchanges and community more personal (it's easier for classmates to ignore a \"Twitter egg\" than a smiling Mountain Hawk)\n",
    "    - Sign up for a [student discount](https://education.github.com/discount_requests/new).\n",
    "\n",
    "1. Install [Anaconda](https://www.anaconda.com/products/individual#Downloads) (not [the Nicki Minaj song](https://www.youtube.com/watch?v=LDZX4ooRsWs)). \n",
    "    - _Install the latest version, make Anaconda your default Python installation, and accept all the defaults otherwise._\n",
    "        - **Mac users**: The TA used the \"64-Bit Graphical Installer (435 MB)\" \n",
    "    - Update Anaconda: Open up Anaconda Powershell Prompt (on windows, or terminal on Mac) and type \n",
    "    \n",
    "        `conda update --all` \n",
    "        \n",
    "       then click enter\n",
    "    \n",
    "4. Test start Jupyter Lab (simply see if you can open it, then close it)\n",
    "    - Open Anaconda Prompt (or terminal on a Mac) and type `jupyter lab`, click enter, and an internet tab should open with the url `http://localhost:8888/lab`. This is Jupyter Lab, and where we will code this semester!\n",
    "    - _The \"point and click: option: Open `Anaconda Navigator` and launch Jupyter Lab from there_\n",
    "    - _I recommend using the Powershell Prompt, because getting comfortable with that will be helpful_\n",
    "    - Bonus: Play around and explore Jupyter Lab. [For a walkthough of what you're seeing, this page should help](https://jupyterlab.readthedocs.io/en/latest/user/interface.html).\n",
    "    \n",
    "    ```{tip}\n",
    "    Once Jupyter Lab is open, it often helps to open a **second** powershell window. This will let you run terminal commands, which you can't do in the first powershell window (because that one is running jupyter lab).\n",
    "    ```\n",
    "    \n",
    "2. Install [Git](https://git-scm.com/download/). \n",
    "    - **Mac users**: Your TA installed Git via Homebrew. Go to [https://brew.sh](https://brew.sh), copy the home-brew address (they have a little copy paste icon which makes it easier for students), then type `brew install git` into the terminal and it'll install git. (There is no config necessary, type \"y \" when prompted with `y/n?`)\n",
    "    \n",
    "    ```{warning}\n",
    "    If Mac users install Git via Xcode, you'll have to install Xcode and essentially waste 4gb of space you probably won't be using.\n",
    "    ```\n",
    "\n",
    "    \n",
    "3. Install [GitHub Desktop](https://desktop.github.com/). _I accepted the default settings._\n",
    "    \n",
    "    ````{margin}    \n",
    "    ```{admonition}  **Is this a \"fun\" fact?**\n",
    "    :class: tip\n",
    "    Git $\\neq$ GitHub $\\neq$ GitHub Desktop! \n",
    "    ![](https://media.giphy.com/media/5hs1S7dpRHphppnvm7/source.gif)\n",
    "    \n",
    "    It is annoying that the names are so similar, but this will make more sense soon, I promise!\n",
    "    ```\n",
    "    ````\n",
    "    \n",
    "6. Optional, but recommended: Install a good text editor. [Atom](https://atom.io/) or [Sublime](https://www.sublimetext.com/) are recommended. "
   ]
  },
  {
   "cell_type": "markdown",
   "metadata": {},
   "source": [
    "I put together a video of me installing everything due to popular demand:"
   ]
  },
  {
   "cell_type": "markdown",
   "metadata": {},
   "source": [
    "<iframe width=\"560\" height=\"315\" src=\"https://www.youtube.com/embed/zKqkLEMmwBw\" frameborder=\"0\" allow=\"accelerometer; autoplay; clipboard-write; encrypted-media; gyroscope; picture-in-picture\" allowfullscreen>Loading...</iframe>\n"
   ]
  },
  {
   "cell_type": "markdown",
   "metadata": {},
   "source": [
    "If you have completed all the steps above, you are ready to go! If you got stuck on a step, message the RA or post on the classmates group. We will get you going quickly!"
   ]
  }
 ],
 "metadata": {
  "celltoolbar": "Tags",
  "kernelspec": {
   "display_name": "Python 3 (ipykernel)",
   "language": "python",
   "name": "python3"
  },
  "language_info": {
   "codemirror_mode": {
    "name": "ipython",
    "version": 3
   },
   "file_extension": ".py",
   "mimetype": "text/x-python",
   "name": "python",
   "nbconvert_exporter": "python",
   "pygments_lexer": "ipython3",
   "version": "3.8.12"
  }
 },
 "nbformat": 4,
 "nbformat_minor": 4
}
