{
 "cells": [
  {
   "cell_type": "markdown",
   "metadata": {},
   "source": [
    "# Markdown basics\n",
    "\n",
    "Markdown is a just way to format text. \n",
    "- For example, **to make this phrase bold**, I add two asterisks before and after it.\n",
    "- GitHub automatically shows the readme on every repo with formatted markdown: Scroll down and look at the readme for [this repo](https://github.com/LeDataSciFi/ledatascifi-2022). You can that there is bolded and italics text, code, hyperlinks and headers for sectioning. There is a lot more you can do with Markdown, but that will give you a taste. \n",
    "- [This is the raw version of that readme/how that file looks _before_ Github formats it nicely.](https://raw.githubusercontent.com/LeDataSciFi/ledatascifi-2022/main/README.md) \n",
    "- Compare the raw version to the formatted version. See how I added the hyperlink in the second sentence?\n",
    "- When we work in Jupyter, we will write python code in files called python notebooks (`ipynb` files, for \"IPYthon NoteBooks\"). In these `ipynb` files, we can have python code interspersed with sections of markdown text. As a result, we can write code and analysis that is easy to follow and execute. In other words, `ipynb` files are useful to create code that is [reproducible, reusable, and shareable[(../about/objectives).\n",
    "\n",
    "I'll recommend four resources to practice and learn markdown. You'll have the gist in under 15 minutes:\n",
    "\n",
    "- [A very good markdown tutorial](https://commonmark.org/help/tutorial/) \n",
    "- [A good cheat sheet](https://www.markdownguide.org/cheat-sheet)\n",
    "- [Github's markdown explainer](https://guides.github.com/features/mastering-markdown/)\n",
    "- Google \"How do I \\<do something \\> in markdown?\n"
   ]
  }
 ],
 "metadata": {
  "kernelspec": {
   "display_name": "Python 3 (ipykernel)",
   "language": "python",
   "name": "python3"
  },
  "language_info": {
   "codemirror_mode": {
    "name": "ipython",
    "version": 3
   },
   "file_extension": ".py",
   "mimetype": "text/x-python",
   "name": "python",
   "nbconvert_exporter": "python",
   "pygments_lexer": "ipython3",
   "version": "3.8.12"
  }
 },
 "nbformat": 4,
 "nbformat_minor": 4
}
