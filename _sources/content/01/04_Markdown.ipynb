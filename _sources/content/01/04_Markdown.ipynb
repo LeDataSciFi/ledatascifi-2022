{
 "cells": [
  {
   "cell_type": "markdown",
   "metadata": {},
   "source": [
    "# Markdown basics\n",
    "\n",
    "```{tip}\n",
    "Copy the resources below to somewhere handy in your class notes folder for quick reference, or bookmark those links. (Or, both!)\n",
    "```\n",
    "\n",
    "Almost all of the work in class will involve writing python files (.ipynb \"notebooks\") and readmes. Any text you type in a readme or a notebook file is, by default, just plain text.\n",
    "\n",
    "Markdown is a just way to give text in a readme or notebook formatting. \n",
    "\n",
    "````{tabbed} What I type\n",
    "```text\n",
    "For example, **to make this phrase bold**, I add two asterisks before and after it.\n",
    "```\n",
    "````\n",
    "\n",
    "````{tabbed} What you see\n",
    "For example, **to make this phrase bold**, I add two asterisks before and after it.\n",
    "````\n",
    "\n",
    "## Markdown in readmes\n",
    "\n",
    "GitHub automatically shows the readme on every repo with formatted markdown: \n",
    "- Scroll down and look at the readme for [this repo](https://github.com/LeDataSciFi/ledatascifi-2022). You can that there is bolded and italics text, code, hyperlinks and headers for sectioning. There is a lot more you can do with Markdown, but that will give you a taste. \n",
    "- [This is the raw version of how that readme/how that file looks _before_ Github formats it nicely.](https://raw.githubusercontent.com/LeDataSciFi/ledatascifi-2022/main/README.md) \n",
    "- Compare the raw version to the formatted version. See how I added the hyperlink in the second sentence?\n",
    "\n",
    "## Markdown in notebooks\n",
    "\n",
    "When we work in Jupyter, we will write python code in files called python notebooks (`ipynb` files, for \"IPYthon NoteBooks\"). In these `ipynb` files, we can have python code interspersed with sections of markdown text. As a result, we can write code and analysis that is easy to follow and execute. In other words, `ipynb` files are useful to create code that is [reproducible, reusable, and shareable[(../about/objectives).\n",
    "\n",
    "## Resources\n",
    "\n",
    "I'll recommend four resources to practice and learn markdown. Look at them all quickly, and you'll have the gist in under 15 minutes:\n",
    "\n",
    "1. [A very good markdown tutorial](https://commonmark.org/help/tutorial/) \n",
    "2. [A good cheat sheet](https://www.markdownguide.org/cheat-sheet)\n",
    "3. [Github's markdown explainer](https://guides.github.com/features/mastering-markdown/)\n",
    "4. Google \"How do I \\<do something \\> in markdown?\n"
   ]
  }
 ],
 "metadata": {
  "kernelspec": {
   "display_name": "Python 3 (ipykernel)",
   "language": "python",
   "name": "python3"
  },
  "language_info": {
   "codemirror_mode": {
    "name": "ipython",
    "version": 3
   },
   "file_extension": ".py",
   "mimetype": "text/x-python",
   "name": "python",
   "nbconvert_exporter": "python",
   "pygments_lexer": "ipython3",
   "version": "3.8.12"
  }
 },
 "nbformat": 4,
 "nbformat_minor": 4
}
