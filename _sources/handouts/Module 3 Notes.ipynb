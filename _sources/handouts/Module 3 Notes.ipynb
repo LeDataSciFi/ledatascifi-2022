{
 "cells": [
  {
   "cell_type": "markdown",
   "id": "33d45c19-4270-42ff-829f-bb37771ff08b",
   "metadata": {},
   "source": [
    "# Module 3 - Accessing Data on the Web\n",
    "\n",
    "_My suggested use for this file is as an extra tab you keep open on the right side of your JupyterLab screen, and treat it like a notepad you'd use in a classroom. The left half of the screen will be good for files that have involved coding that should be stand alone files._\n",
    "\n",
    "## Skills AND CONCEPTS to learn in this Module \n",
    "\n",
    "You can find the tasks for this module [on the dashboard page]. \n",
    "\n",
    "Below are the key skills and concepts I want you to learn in this module in _roughly_ the order we will cover them. \n",
    "\n",
    "_**Note: This list is the key stuff, but not everything. We are scraping the surface **_\n",
    "- [ ] Scraping data\n",
    "    - [ ] download webpages with Pandas\n",
    "    - [ ] know how to use APIs to scrape data\n",
    "- [ ] Opening and parsing webpages\n",
    "    - [ ] retrieve URLs and send manual API queries\n",
    "    - [ ] parse single pages for data/text/links\n",
    "    - [ ] build spiders to scrape and save many webpages\n",
    "- [ ] Working with textual data\n",
    "    - [ ] turning unstructured data into structured data"
   ]
  }
 ],
 "metadata": {
  "kernelspec": {
   "display_name": "Python 3 (ipykernel)",
   "language": "python",
   "name": "python3"
  },
  "language_info": {
   "codemirror_mode": {
    "name": "ipython",
    "version": 3
   },
   "file_extension": ".py",
   "mimetype": "text/x-python",
   "name": "python",
   "nbconvert_exporter": "python",
   "pygments_lexer": "ipython3",
   "version": "3.9.7"
  }
 },
 "nbformat": 4,
 "nbformat_minor": 5
}
